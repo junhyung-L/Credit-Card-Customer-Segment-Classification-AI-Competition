{
  "nbformat": 4,
  "nbformat_minor": 0,
  "metadata": {
    "colab": {
      "provenance": [],
      "gpuType": "V28"
    },
    "kernelspec": {
      "name": "python3",
      "display_name": "Python 3"
    },
    "language_info": {
      "name": "python"
    },
    "accelerator": "TPU"
  },
  "cells": [
    {
      "cell_type": "code",
      "execution_count": null,
      "metadata": {
        "colab": {
          "base_uri": "https://localhost:8080/"
        },
        "id": "haRMxBUhmxmk",
        "outputId": "c42dade7-3809-496f-f425-b81c66ee9f95"
      },
      "outputs": [
        {
          "output_type": "stream",
          "name": "stdout",
          "text": [
            "Drive already mounted at /content/drive; to attempt to forcibly remount, call drive.mount(\"/content/drive\", force_remount=True).\n",
            "customer_train_07 is loaded from ./train/1.회원정보/201807_train_회원정보.parquet\n",
            "customer_train_08 is loaded from ./train/1.회원정보/201808_train_회원정보.parquet\n",
            "customer_train_09 is loaded from ./train/1.회원정보/201809_train_회원정보.parquet\n",
            "customer_train_10 is loaded from ./train/1.회원정보/201810_train_회원정보.parquet\n",
            "customer_train_11 is loaded from ./train/1.회원정보/201811_train_회원정보.parquet\n",
            "customer_train_12 is loaded from ./train/1.회원정보/201812_train_회원정보.parquet\n",
            "credit_train_07 is loaded from ./train/2.신용정보/201807_train_신용정보.parquet\n",
            "credit_train_08 is loaded from ./train/2.신용정보/201808_train_신용정보.parquet\n",
            "credit_train_09 is loaded from ./train/2.신용정보/201809_train_신용정보.parquet\n",
            "credit_train_10 is loaded from ./train/2.신용정보/201810_train_신용정보.parquet\n",
            "credit_train_11 is loaded from ./train/2.신용정보/201811_train_신용정보.parquet\n",
            "credit_train_12 is loaded from ./train/2.신용정보/201812_train_신용정보.parquet\n",
            "sales_train_07 is loaded from ./train/3.승인매출정보/201807_train_승인매출정보.parquet\n",
            "sales_train_08 is loaded from ./train/3.승인매출정보/201808_train_승인매출정보.parquet\n",
            "sales_train_09 is loaded from ./train/3.승인매출정보/201809_train_승인매출정보.parquet\n",
            "sales_train_10 is loaded from ./train/3.승인매출정보/201810_train_승인매출정보.parquet\n",
            "sales_train_11 is loaded from ./train/3.승인매출정보/201811_train_승인매출정보.parquet\n",
            "sales_train_12 is loaded from ./train/3.승인매출정보/201812_train_승인매출정보.parquet\n",
            "billing_train_07 is loaded from ./train/4.청구입금정보/201807_train_청구정보.parquet\n",
            "billing_train_08 is loaded from ./train/4.청구입금정보/201808_train_청구정보.parquet\n",
            "billing_train_09 is loaded from ./train/4.청구입금정보/201809_train_청구정보.parquet\n",
            "billing_train_10 is loaded from ./train/4.청구입금정보/201810_train_청구정보.parquet\n",
            "billing_train_11 is loaded from ./train/4.청구입금정보/201811_train_청구정보.parquet\n",
            "billing_train_12 is loaded from ./train/4.청구입금정보/201812_train_청구정보.parquet\n",
            "balance_train_07 is loaded from ./train/5.잔액정보/201807_train_잔액정보.parquet\n",
            "balance_train_08 is loaded from ./train/5.잔액정보/201808_train_잔액정보.parquet\n",
            "balance_train_09 is loaded from ./train/5.잔액정보/201809_train_잔액정보.parquet\n",
            "balance_train_10 is loaded from ./train/5.잔액정보/201810_train_잔액정보.parquet\n",
            "balance_train_11 is loaded from ./train/5.잔액정보/201811_train_잔액정보.parquet\n",
            "balance_train_12 is loaded from ./train/5.잔액정보/201812_train_잔액정보.parquet\n",
            "channel_train_07 is loaded from ./train/6.채널정보/201807_train_채널정보.parquet\n",
            "channel_train_08 is loaded from ./train/6.채널정보/201808_train_채널정보.parquet\n",
            "channel_train_09 is loaded from ./train/6.채널정보/201809_train_채널정보.parquet\n",
            "channel_train_10 is loaded from ./train/6.채널정보/201810_train_채널정보.parquet\n",
            "channel_train_11 is loaded from ./train/6.채널정보/201811_train_채널정보.parquet\n",
            "channel_train_12 is loaded from ./train/6.채널정보/201812_train_채널정보.parquet\n",
            "marketing_train_07 is loaded from ./train/7.마케팅정보/201807_train_마케팅정보.parquet\n",
            "marketing_train_08 is loaded from ./train/7.마케팅정보/201808_train_마케팅정보.parquet\n",
            "marketing_train_09 is loaded from ./train/7.마케팅정보/201809_train_마케팅정보.parquet\n",
            "marketing_train_10 is loaded from ./train/7.마케팅정보/201810_train_마케팅정보.parquet\n",
            "marketing_train_11 is loaded from ./train/7.마케팅정보/201811_train_마케팅정보.parquet\n",
            "marketing_train_12 is loaded from ./train/7.마케팅정보/201812_train_마케팅정보.parquet\n",
            "performance_train_07 is loaded from ./train/8.성과정보/201807_train_성과정보.parquet\n",
            "performance_train_08 is loaded from ./train/8.성과정보/201808_train_성과정보.parquet\n",
            "performance_train_09 is loaded from ./train/8.성과정보/201809_train_성과정보.parquet\n",
            "performance_train_10 is loaded from ./train/8.성과정보/201810_train_성과정보.parquet\n",
            "performance_train_11 is loaded from ./train/8.성과정보/201811_train_성과정보.parquet\n",
            "performance_train_12 is loaded from ./train/8.성과정보/201812_train_성과정보.parquet\n",
            "customer_test_07 is loaded from ./test/1.회원정보/201807_test_회원정보.parquet\n",
            "customer_test_08 is loaded from ./test/1.회원정보/201808_test_회원정보.parquet\n",
            "customer_test_09 is loaded from ./test/1.회원정보/201809_test_회원정보.parquet\n",
            "customer_test_10 is loaded from ./test/1.회원정보/201810_test_회원정보.parquet\n",
            "customer_test_11 is loaded from ./test/1.회원정보/201811_test_회원정보.parquet\n",
            "customer_test_12 is loaded from ./test/1.회원정보/201812_test_회원정보.parquet\n",
            "credit_test_07 is loaded from ./test/2.신용정보/201807_test_신용정보.parquet\n",
            "credit_test_08 is loaded from ./test/2.신용정보/201808_test_신용정보.parquet\n",
            "credit_test_09 is loaded from ./test/2.신용정보/201809_test_신용정보.parquet\n",
            "credit_test_10 is loaded from ./test/2.신용정보/201810_test_신용정보.parquet\n",
            "credit_test_11 is loaded from ./test/2.신용정보/201811_test_신용정보.parquet\n",
            "credit_test_12 is loaded from ./test/2.신용정보/201812_test_신용정보.parquet\n",
            "sales_test_07 is loaded from ./test/3.승인매출정보/201807_test_승인매출정보.parquet\n",
            "sales_test_08 is loaded from ./test/3.승인매출정보/201808_test_승인매출정보.parquet\n",
            "sales_test_09 is loaded from ./test/3.승인매출정보/201809_test_승인매출정보.parquet\n",
            "sales_test_10 is loaded from ./test/3.승인매출정보/201810_test_승인매출정보.parquet\n",
            "sales_test_11 is loaded from ./test/3.승인매출정보/201811_test_승인매출정보.parquet\n",
            "sales_test_12 is loaded from ./test/3.승인매출정보/201812_test_승인매출정보.parquet\n",
            "billing_test_07 is loaded from ./test/4.청구입금정보/201807_test_청구정보.parquet\n",
            "billing_test_08 is loaded from ./test/4.청구입금정보/201808_test_청구정보.parquet\n",
            "billing_test_09 is loaded from ./test/4.청구입금정보/201809_test_청구정보.parquet\n",
            "billing_test_10 is loaded from ./test/4.청구입금정보/201810_test_청구정보.parquet\n",
            "billing_test_11 is loaded from ./test/4.청구입금정보/201811_test_청구정보.parquet\n",
            "billing_test_12 is loaded from ./test/4.청구입금정보/201812_test_청구정보.parquet\n",
            "balance_test_07 is loaded from ./test/5.잔액정보/201807_test_잔액정보.parquet\n",
            "balance_test_08 is loaded from ./test/5.잔액정보/201808_test_잔액정보.parquet\n",
            "balance_test_09 is loaded from ./test/5.잔액정보/201809_test_잔액정보.parquet\n",
            "balance_test_10 is loaded from ./test/5.잔액정보/201810_test_잔액정보.parquet\n",
            "balance_test_11 is loaded from ./test/5.잔액정보/201811_test_잔액정보.parquet\n",
            "balance_test_12 is loaded from ./test/5.잔액정보/201812_test_잔액정보.parquet\n",
            "channel_test_07 is loaded from ./test/6.채널정보/201807_test_채널정보.parquet\n",
            "channel_test_08 is loaded from ./test/6.채널정보/201808_test_채널정보.parquet\n",
            "channel_test_09 is loaded from ./test/6.채널정보/201809_test_채널정보.parquet\n",
            "channel_test_10 is loaded from ./test/6.채널정보/201810_test_채널정보.parquet\n",
            "channel_test_11 is loaded from ./test/6.채널정보/201811_test_채널정보.parquet\n",
            "channel_test_12 is loaded from ./test/6.채널정보/201812_test_채널정보.parquet\n",
            "marketing_test_07 is loaded from ./test/7.마케팅정보/201807_test_마케팅정보.parquet\n",
            "marketing_test_08 is loaded from ./test/7.마케팅정보/201808_test_마케팅정보.parquet\n",
            "marketing_test_09 is loaded from ./test/7.마케팅정보/201809_test_마케팅정보.parquet\n",
            "marketing_test_10 is loaded from ./test/7.마케팅정보/201810_test_마케팅정보.parquet\n",
            "marketing_test_11 is loaded from ./test/7.마케팅정보/201811_test_마케팅정보.parquet\n",
            "marketing_test_12 is loaded from ./test/7.마케팅정보/201812_test_마케팅정보.parquet\n",
            "performance_test_07 is loaded from ./test/8.성과정보/201807_test_성과정보.parquet\n",
            "performance_test_08 is loaded from ./test/8.성과정보/201808_test_성과정보.parquet\n",
            "performance_test_09 is loaded from ./test/8.성과정보/201809_test_성과정보.parquet\n",
            "performance_test_10 is loaded from ./test/8.성과정보/201810_test_성과정보.parquet\n",
            "performance_test_11 is loaded from ./test/8.성과정보/201811_test_성과정보.parquet\n",
            "performance_test_12 is loaded from ./test/8.성과정보/201812_test_성과정보.parquet\n"
          ]
        },
        {
          "output_type": "execute_result",
          "data": {
            "text/plain": [
              "0"
            ]
          },
          "metadata": {},
          "execution_count": 1
        }
      ],
      "source": [
        "\n",
        "import pandas as pd\n",
        "import gc\n",
        "import os\n",
        "\n",
        "from google.colab import drive\n",
        "drive.mount('/content/drive')\n",
        "\n",
        "\n",
        "os.chdir('/content/drive/MyDrive/신용카드고객')\n",
        "\n",
        "train_df1_splits = [\"train\", \"test\"]\n",
        "\n",
        "\n",
        "train_df1_categories = {\n",
        "    \"회원정보\": {\"folder\": \"1.회원정보\", \"suffix\": \"회원정보\", \"var_prefix\": \"customer\"},\n",
        "    \"신용정보\": {\"folder\": \"2.신용정보\", \"suffix\": \"신용정보\", \"var_prefix\": \"credit\"},\n",
        "    \"승인매출정보\": {\"folder\": \"3.승인매출정보\", \"suffix\": \"승인매출정보\", \"var_prefix\": \"sales\"},\n",
        "    \"청구정보\": {\"folder\": \"4.청구입금정보\", \"suffix\": \"청구정보\", \"var_prefix\": \"billing\"},\n",
        "    \"잔액정보\": {\"folder\": \"5.잔액정보\", \"suffix\": \"잔액정보\", \"var_prefix\": \"balance\"},\n",
        "    \"채널정보\": {\"folder\": \"6.채널정보\", \"suffix\": \"채널정보\", \"var_prefix\": \"channel\"},\n",
        "    \"마케팅정보\": {\"folder\": \"7.마케팅정보\", \"suffix\": \"마케팅정보\", \"var_prefix\": \"marketing\"},\n",
        "    \"성과정보\": {\"folder\": \"8.성과정보\", \"suffix\": \"성과정보\", \"var_prefix\": \"performance\"}\n",
        "}\n",
        "months = ['07', '08', '09', '10', '11', '12']\n",
        "\n",
        "for split in train_df1_splits:\n",
        "    for category, info in train_df1_categories.items():\n",
        "        folder = info[\"folder\"]\n",
        "        suffix = info[\"suffix\"]\n",
        "        var_prefix = info[\"var_prefix\"]\n",
        "\n",
        "        for month in months:\n",
        "            # 파일명 형식: 2018{month}_{split}_{suffix}.parquet\n",
        "            file_path = f\"./{split}/{folder}/2018{month}_{split}_{suffix}.parquet\"\n",
        "            # 변수명 형식: {var_prefix}_{split}_{month}\n",
        "            variable_name = f\"{var_prefix}_{split}_{month}\"\n",
        "            globals()[variable_name] = pd.read_parquet(file_path)\n",
        "            print(f\"{variable_name} is loaded from {file_path}\")\n",
        "\n",
        "gc.collect()\n"
      ]
    },
    {
      "cell_type": "code",
      "source": [
        "# 데이터 유형별 설정\n",
        "info_categories = [\"customer\", \"credit\", \"sales\", \"billing\", \"balance\", \"channel\", \"marketing\", \"performance\"]\n",
        "\n",
        "# 월 설정\n",
        "months = ['07', '08', '09', '10', '11', '12']"
      ],
      "metadata": {
        "id": "aQoHO1dMm_-r"
      },
      "execution_count": null,
      "outputs": []
    },
    {
      "cell_type": "code",
      "source": [
        "#### Train ####\n",
        "\n",
        "# 각 유형별로 월별 데이터를 합쳐서 새로운 변수에 저장\n",
        "train_dfs = {}\n",
        "\n",
        "for prefix in info_categories:\n",
        "    # globals()에서 동적 변수명으로 데이터프레임들을 가져와 리스트에 저장\n",
        "    df_list = [globals()[f\"{prefix}_train_{month}\"] for month in months]\n",
        "    train_dfs[f\"{prefix}_train_df\"] = pd.concat(df_list, axis=0)\n",
        "    gc.collect()\n",
        "    print(f\"{prefix}_train_df is created with shape: {train_dfs[f'{prefix}_train_df'].shape}\")\n",
        "\n",
        "\n",
        "customer_train_df = train_dfs[\"customer_train_df\"]\n",
        "credit_train_df   = train_dfs[\"credit_train_df\"]\n",
        "sales_train_df    = train_dfs[\"sales_train_df\"]\n",
        "billing_train_df  = train_dfs[\"billing_train_df\"]\n",
        "balance_train_df  = train_dfs[\"balance_train_df\"]\n",
        "channel_train_df  = train_dfs[\"channel_train_df\"]\n",
        "marketing_train_df= train_dfs[\"marketing_train_df\"]\n",
        "performance_train_df = train_dfs[\"performance_train_df\"]\n",
        "\n",
        "gc.collect()"
      ],
      "metadata": {
        "colab": {
          "base_uri": "https://localhost:8080/"
        },
        "id": "xiPTluZyp6qF",
        "outputId": "df711927-8e0f-439d-d00a-587f50c4809b"
      },
      "execution_count": null,
      "outputs": [
        {
          "output_type": "stream",
          "name": "stdout",
          "text": [
            "customer_train_df is created with shape: (2400000, 78)\n",
            "credit_train_df is created with shape: (2400000, 42)\n",
            "sales_train_df is created with shape: (2400000, 406)\n",
            "billing_train_df is created with shape: (2400000, 46)\n",
            "balance_train_df is created with shape: (2400000, 82)\n",
            "channel_train_df is created with shape: (2400000, 105)\n",
            "marketing_train_df is created with shape: (2400000, 64)\n",
            "performance_train_df is created with shape: (2400000, 49)\n"
          ]
        },
        {
          "output_type": "execute_result",
          "data": {
            "text/plain": [
              "0"
            ]
          },
          "metadata": {},
          "execution_count": 3
        }
      ]
    },
    {
      "cell_type": "code",
      "source": [
        "#### Test ####\n",
        "\n",
        "# test 데이터에 대해 train과 동일한 방법 적용\n",
        "test_dfs = {}\n",
        "\n",
        "for prefix in info_categories:\n",
        "    df_list = [globals()[f\"{prefix}_test_{month}\"] for month in months]\n",
        "    test_dfs[f\"{prefix}_test_df\"] = pd.concat(df_list, axis=0)\n",
        "    gc.collect()\n",
        "    print(f\"{prefix}_test_df is created with shape: {test_dfs[f'{prefix}_test_df'].shape}\")\n",
        "\n",
        "\n",
        "customer_test_df = test_dfs[\"customer_test_df\"]\n",
        "credit_test_df   = test_dfs[\"credit_test_df\"]\n",
        "sales_test_df    = test_dfs[\"sales_test_df\"]\n",
        "billing_test_df  = test_dfs[\"billing_test_df\"]\n",
        "balance_test_df  = test_dfs[\"balance_test_df\"]\n",
        "channel_test_df  = test_dfs[\"channel_test_df\"]\n",
        "marketing_test_df= test_dfs[\"marketing_test_df\"]\n",
        "performance_test_df = test_dfs[\"performance_test_df\"]\n",
        "\n",
        "gc.collect()"
      ],
      "metadata": {
        "colab": {
          "base_uri": "https://localhost:8080/"
        },
        "id": "GQAqiU02nLFc",
        "outputId": "5df67a4d-a0a4-4c32-e9c1-eaed25b87cd3"
      },
      "execution_count": null,
      "outputs": [
        {
          "output_type": "stream",
          "name": "stdout",
          "text": [
            "customer_test_df is created with shape: (600000, 77)\n",
            "credit_test_df is created with shape: (600000, 42)\n",
            "sales_test_df is created with shape: (600000, 406)\n",
            "billing_test_df is created with shape: (600000, 46)\n",
            "balance_test_df is created with shape: (600000, 82)\n",
            "channel_test_df is created with shape: (600000, 105)\n",
            "marketing_test_df is created with shape: (600000, 64)\n",
            "performance_test_df is created with shape: (600000, 49)\n"
          ]
        },
        {
          "output_type": "execute_result",
          "data": {
            "text/plain": [
              "0"
            ]
          },
          "metadata": {},
          "execution_count": 4
        }
      ]
    },
    {
      "cell_type": "code",
      "source": [
        "#### Train ####\n",
        "\n",
        "train_df = customer_train_df.merge(credit_train_df, on=['기준년월', 'ID'], how='left')\n",
        "print(\"Step1 저장 완료: train_step1, shape:\", train_df.shape)\n",
        "del customer_train_df, credit_train_df\n",
        "gc.collect()\n",
        "\n",
        "# 이후 merge할 데이터프레임 이름과 단계 정보를 리스트에 저장\n",
        "merge_list = [\n",
        "    (\"sales_train_df\",    \"Step2\"),\n",
        "    (\"billing_train_df\",  \"Step3\"),\n",
        "    (\"balance_train_df\",  \"Step4\"),\n",
        "    (\"channel_train_df\",  \"Step5\"),\n",
        "    (\"marketing_train_df\",\"Step6\"),\n",
        "    (\"performance_train_df\", \"최종\")\n",
        "]\n",
        "\n",
        "# 나머지 단계 merge\n",
        "for df_name, step in merge_list:\n",
        "    # globals()로 동적 변수 접근하여 merge 수행\n",
        "    train_df = train_df.merge(globals()[df_name], on=['기준년월', 'ID'], how='left')\n",
        "    print(f\"{step} 저장 완료: train_{step}, shape:\", train_df.shape)\n",
        "    # 사용한 변수는 메모리 해제를 위해 삭제\n",
        "    del globals()[df_name]\n",
        "    gc.collect()"
      ],
      "metadata": {
        "colab": {
          "base_uri": "https://localhost:8080/"
        },
        "id": "kiSS6kfLnO0f",
        "outputId": "95f40ee8-2f37-4267-d6d5-fd118496ddbf"
      },
      "execution_count": null,
      "outputs": [
        {
          "output_type": "stream",
          "name": "stdout",
          "text": [
            "Step1 저장 완료: train_step1, shape: (2400000, 118)\n",
            "Step2 저장 완료: train_Step2, shape: (2400000, 522)\n",
            "Step3 저장 완료: train_Step3, shape: (2400000, 566)\n",
            "Step4 저장 완료: train_Step4, shape: (2400000, 646)\n",
            "Step5 저장 완료: train_Step5, shape: (2400000, 749)\n",
            "Step6 저장 완료: train_Step6, shape: (2400000, 811)\n",
            "최종 저장 완료: train_최종, shape: (2400000, 858)\n"
          ]
        }
      ]
    },
    {
      "cell_type": "code",
      "source": [
        "#### Test ####\n",
        "\n",
        "test_df = customer_test_df.merge(credit_test_df, on=['기준년월', 'ID'], how='left')\n",
        "print(\"Step1 저장 완료: test_step1, shape:\", test_df.shape)\n",
        "del customer_test_df, credit_test_df\n",
        "gc.collect()\n",
        "\n",
        "# 이후 merge할 데이터프레임 이름과 단계 정보를 리스트에 저장\n",
        "merge_list = [\n",
        "    (\"sales_test_df\",    \"Step2\"),\n",
        "    (\"billing_test_df\",  \"Step3\"),\n",
        "    (\"balance_test_df\",  \"Step4\"),\n",
        "    (\"channel_test_df\",  \"Step5\"),\n",
        "    (\"marketing_test_df\",\"Step6\"),\n",
        "    (\"performance_test_df\", \"최종\")\n",
        "]\n",
        "\n",
        "# 나머지 단계 merge\n",
        "for df_name, step in merge_list:\n",
        "    # globals()로 동적 변수 접근하여 merge 수행\n",
        "    test_df = test_df.merge(globals()[df_name], on=['기준년월', 'ID'], how='left')\n",
        "    print(f\"{step} 저장 완료: test_{step}, shape:\", test_df.shape)\n",
        "    # 사용한 변수는 메모리 해제를 위해 삭제\n",
        "    del globals()[df_name]\n",
        "    gc.collect()"
      ],
      "metadata": {
        "colab": {
          "base_uri": "https://localhost:8080/"
        },
        "id": "tj0CZOh-qrBa",
        "outputId": "40c6687b-5938-4c91-d989-e4b454537a75"
      },
      "execution_count": null,
      "outputs": [
        {
          "output_type": "stream",
          "name": "stdout",
          "text": [
            "Step1 저장 완료: test_step1, shape: (600000, 117)\n",
            "Step2 저장 완료: test_Step2, shape: (600000, 521)\n",
            "Step3 저장 완료: test_Step3, shape: (600000, 565)\n",
            "Step4 저장 완료: test_Step4, shape: (600000, 645)\n",
            "Step5 저장 완료: test_Step5, shape: (600000, 748)\n",
            "Step6 저장 완료: test_Step6, shape: (600000, 810)\n",
            "최종 저장 완료: test_최종, shape: (600000, 857)\n"
          ]
        }
      ]
    },
    {
      "cell_type": "code",
      "source": [
        "import pandas as pd\n",
        "import gc\n",
        "import os\n",
        "\n",
        "from google.colab import drive\n",
        "drive.mount('/content/drive')\n",
        "train_df=pd.read_csv('/content/drive/MyDrive/신용카드고객/train_df.csv')\n",
        "test_df=pd.read_csv('/content/drive/MyDrive/신용카드고객/test_df.csv')"
      ],
      "metadata": {
        "colab": {
          "base_uri": "https://localhost:8080/"
        },
        "id": "bVsYmvHOpMVn",
        "outputId": "2a8308fb-e264-417a-9a40-e49908ed7128"
      },
      "execution_count": null,
      "outputs": [
        {
          "output_type": "stream",
          "name": "stdout",
          "text": [
            "Drive already mounted at /content/drive; to attempt to forcibly remount, call drive.mount(\"/content/drive\", force_remount=True).\n"
          ]
        },
        {
          "output_type": "stream",
          "name": "stderr",
          "text": [
            "<ipython-input-1-0ccdb31a5380>:7: DtypeWarning: Columns (300,385) have mixed types. Specify dtype option on import or set low_memory=False.\n",
            "  train_df=pd.read_csv('/content/drive/MyDrive/신용카드고객/train_df.csv')\n",
            "<ipython-input-1-0ccdb31a5380>:8: DtypeWarning: Columns (299) have mixed types. Specify dtype option on import or set low_memory=False.\n",
            "  test_df=pd.read_csv('/content/drive/MyDrive/신용카드고객/test_df.csv')\n"
          ]
        }
      ]
    },
    {
      "cell_type": "code",
      "source": [
        "train_summation=train_df.head(1000)\n",
        "train_summation.to_csv('/content/drive/MyDrive/신용카드고객/train_summation.csv')"
      ],
      "metadata": {
        "id": "6BcIbvUgh520"
      },
      "execution_count": null,
      "outputs": []
    },
    {
      "cell_type": "code",
      "source": [
        "train_df1=train_df.copy()\n",
        "test_df1=test_df.copy()"
      ],
      "metadata": {
        "id": "7Xgzuh3enTwp"
      },
      "execution_count": null,
      "outputs": []
    },
    {
      "cell_type": "code",
      "source": [
        "import pandas as pd\n",
        "total_rows = 2400000\n",
        "\n",
        "# 1. 결측치 개수 계산\n",
        "missing_counts = train_df.isnull().sum()\n",
        "\n",
        "# 2. 결측치 비율 계산 (%)\n",
        "missing_ratios = (missing_counts / total_rows) * 100\n",
        "\n",
        "# 3. 결측치가 있는 변수만 필터링\n",
        "missing_train_df = pd.DataFrame({\n",
        "    '결측치 개수': missing_counts,\n",
        "    '결측 비율 (%)': missing_ratios\n",
        "})\n",
        "missing_train_df = missing_train_df[missing_train_df['결측치 개수'] > 0]  # 결측치가 0인 변수 제외\n",
        "\n",
        "# 4. 결과 정렬 (결측 비율 높은 순)\n",
        "missing_train_df = missing_train_df.sort_values(by='결측 비율 (%)', ascending=False)\n",
        "\n",
        "# 5. 출력\n",
        "print(f\"총 데이터 수: {total_rows}\")\n",
        "print(\"\\n결측치가 있는 변수 목록:\")\n",
        "print(missing_train_df)\n"
      ],
      "metadata": {
        "colab": {
          "base_uri": "https://localhost:8080/"
        },
        "id": "jE-EudXIXr7m",
        "outputId": "6e9f83e9-8505-4451-c771-c94e1993766f"
      },
      "execution_count": null,
      "outputs": [
        {
          "output_type": "stream",
          "name": "stdout",
          "text": [
            "총 데이터 수: 2400000\n",
            "\n",
            "결측치가 있는 변수 목록:\n",
            "                 결측치 개수  결측 비율 (%)\n",
            "연체일자_B0M        2394336  99.764000\n",
            "_3순위여유업종        2377725  99.071875\n",
            "_3순위납부업종        2310187  96.257792\n",
            "_2순위여유업종        2302286  95.928583\n",
            "_3순위교통업종        2045455  85.227292\n",
            "_2순위납부업종        2033640  84.735000\n",
            "최종카드론_대출일자      1988330  82.847083\n",
            "_1순위여유업종        1987260  82.802500\n",
            "최종카드론_신청경로코드    1958226  81.592750\n",
            "최종카드론_금융상환방식코드  1958126  81.588583\n",
            "RV신청일자          1951236  81.301500\n",
            "_2순위교통업종        1656423  69.017625\n",
            "OS구분코드          1633566  68.065250\n",
            "_3순위쇼핑업종        1312267  54.677792\n",
            "_1순위납부업종        1216263  50.677625\n",
            "_1순위교통업종        1164494  48.520583\n",
            "_2순위쇼핑업종        1135042  47.293417\n",
            "_3순위업종          1107898  46.162417\n",
            "_2순위신용체크구분       958115  39.921458\n",
            "_1순위쇼핑업종         922663  38.444292\n",
            "_2순위업종           912725  38.030208\n",
            "혜택수혜율_B0M        555522  23.146750\n",
            "_1순위업종           539992  22.499667\n",
            "최종유효년월_신용_이용     534231  22.259625\n",
            "혜택수혜율_R3M        488746  20.364417\n",
            "가입통신회사코드         387570  16.148750\n",
            "직장시도명            244969  10.207042\n",
            "최종유효년월_신용_이용가능   210447   8.768625\n",
            "최종카드발급일자          41965   1.748542\n",
            "RV전환가능여부          29473   1.228042\n",
            "_1순위신용체크구분        27950   1.164583\n"
          ]
        }
      ]
    },
    {
      "cell_type": "code",
      "source": [
        "print(len(train_df.loc[train_df['_3순위여유업종_이용금액'] == 0, '_3순위여유업종']))\n",
        "print(len(train_df.loc[train_df['_3순위납부업종_이용금액'] == 0, '_3순위납부업종']))\n",
        "print(len(train_df.loc[train_df['_2순위여유업종_이용금액'] == 0, '_2순위여유업종']))\n",
        "print(len(train_df.loc[train_df['_3순위교통업종_이용금액'] == 0, '_3순위교통업종']))\n",
        "print(len(train_df.loc[train_df['_2순위납부업종_이용금액'] == 0, '_2순위납부업종']))\n",
        "print(len(train_df.loc[train_df['_1순위여유업종_이용금액'] == 0, '_1순위여유업종']))\n",
        "print(len(train_df.loc[train_df['_2순위교통업종_이용금액'] == 0, '_2순위교통업종']))\n",
        "print(len(train_df.loc[train_df['_3순위쇼핑업종_이용금액'] == 0, '_3순위쇼핑업종']))\n",
        "print(len(train_df.loc[train_df['_1순위납부업종_이용금액'] == 0, '_1순위납부업종']))\n",
        "print(len(train_df.loc[train_df['_1순위교통업종_이용금액'] == 0, '_1순위교통업종']))\n",
        "print(len(train_df.loc[train_df['_2순위쇼핑업종_이용금액'] == 0, '_2순위쇼핑업종']))\n",
        "print(len(train_df.loc[train_df['_3순위업종_이용금액'] == 0, '_3순위업종']))\n",
        "print(len(train_df.loc[train_df['_1순위쇼핑업종_이용금액'] == 0, '_1순위쇼핑업종']))\n",
        "print(len(train_df.loc[train_df['_2순위업종_이용금액'] == 0, '_2순위업종']))\n",
        "print(len(train_df.loc[train_df['_1순위업종_이용금액'] == 0, '_1순위업종']))\n"
      ],
      "metadata": {
        "id": "qPvSIgpmxunM",
        "colab": {
          "base_uri": "https://localhost:8080/"
        },
        "outputId": "4837acdb-7b86-497c-f7ed-bbeb2dc37625"
      },
      "execution_count": null,
      "outputs": [
        {
          "output_type": "stream",
          "name": "stdout",
          "text": [
            "2377725\n",
            "2310187\n",
            "2302286\n",
            "2045515\n",
            "2033640\n",
            "1987260\n",
            "1656477\n",
            "1312267\n",
            "1216263\n",
            "1164541\n",
            "1135042\n",
            "1107904\n",
            "922663\n",
            "912735\n",
            "539998\n"
          ]
        }
      ]
    },
    {
      "cell_type": "code",
      "source": [
        "print((train_df['_3순위여유업종_이용금액'] == 0).sum())\n",
        "print((train_df['_3순위납부업종_이용금액'] == 0).sum())\n",
        "print((train_df['_2순위여유업종_이용금액'] == 0).sum())\n",
        "print((train_df['_3순위교통업종_이용금액'] == 0).sum())\n",
        "print((train_df['_2순위납부업종_이용금액'] == 0).sum())\n",
        "print((train_df['_1순위여유업종_이용금액'] == 0).sum())\n",
        "print((train_df['_2순위교통업종_이용금액'] == 0).sum())\n",
        "print((train_df['_3순위쇼핑업종_이용금액'] == 0).sum())\n",
        "print((train_df['_1순위납부업종_이용금액'] == 0).sum())\n",
        "print((train_df['_1순위교통업종_이용금액'] == 0).sum())\n",
        "print((train_df['_2순위쇼핑업종_이용금액'] == 0).sum())\n",
        "print((train_df['_3순위업종_이용금액'] == 0).sum())\n",
        "print((train_df['_1순위쇼핑업종_이용금액'] == 0).sum())\n",
        "print((train_df['_2순위업종_이용금액'] == 0).sum())\n",
        "print((train_df['_1순위업종_이용금액'] == 0).sum())\n"
      ],
      "metadata": {
        "colab": {
          "base_uri": "https://localhost:8080/"
        },
        "id": "fCH75H6MmkDp",
        "outputId": "275c0729-cde4-48a0-cdff-1de6b2413f54"
      },
      "execution_count": null,
      "outputs": [
        {
          "output_type": "stream",
          "name": "stdout",
          "text": [
            "2377725\n",
            "2310187\n",
            "2302286\n",
            "2045515\n",
            "2033640\n",
            "1987260\n",
            "1656477\n",
            "1312267\n",
            "1216263\n",
            "1164541\n",
            "1135042\n",
            "1107904\n",
            "922663\n",
            "912735\n",
            "539998\n"
          ]
        }
      ]
    },
    {
      "cell_type": "code",
      "source": [
        "# 결측치를 '없음'으로 채우기\n",
        "industry_list = [\n",
        "    '_3순위여유업종',\n",
        "    '_3순위납부업종',\n",
        "    '_2순위여유업종',\n",
        "    '_3순위교통업종',\n",
        "    '_2순위납부업종',\n",
        "    '_1순위여유업종',\n",
        "    '_2순위교통업종',\n",
        "    '_3순위쇼핑업종',\n",
        "    '_1순위납부업종',\n",
        "    '_1순위교통업종',\n",
        "    '_2순위쇼핑업종',\n",
        "    '_3순위업종',\n",
        "    '_1순위쇼핑업종',\n",
        "    '_2순위업종',\n",
        "    '_1순위업종'\n",
        "]\n",
        "\n",
        "# 각 업종 목록의 결측치를 '없음'으로 채우기\n",
        "for industry in industry_list:\n",
        "    train_df1[industry].fillna('없음', inplace=True)\n",
        "\n"
      ],
      "metadata": {
        "colab": {
          "base_uri": "https://localhost:8080/"
        },
        "id": "FJq2hj7xnoYz",
        "outputId": "03e8f164-e34f-407f-8bc6-f4cbe50c75b5"
      },
      "execution_count": null,
      "outputs": [
        {
          "output_type": "stream",
          "name": "stderr",
          "text": [
            "<ipython-input-7-e982d7185d84>:22: FutureWarning: A value is trying to be set on a copy of a DataFrame or Series through chained assignment using an inplace method.\n",
            "The behavior will change in pandas 3.0. This inplace method will never work because the intermediate object on which we are setting values always behaves as a copy.\n",
            "\n",
            "For example, when doing 'df[col].method(value, inplace=True)', try using 'df.method({col: value}, inplace=True)' or df[col] = df[col].method(value) instead, to perform the operation inplace on the original object.\n",
            "\n",
            "\n",
            "  train_df1[industry].fillna('없음', inplace=True)\n"
          ]
        }
      ]
    },
    {
      "cell_type": "code",
      "source": [
        "train_df1['RV전환가능여부'].value_counts()"
      ],
      "metadata": {
        "colab": {
          "base_uri": "https://localhost:8080/",
          "height": 178
        },
        "id": "VgiQlbGOVLHR",
        "outputId": "3dc9c665-5971-42c2-9267-f61a1a014f54"
      },
      "execution_count": null,
      "outputs": [
        {
          "output_type": "execute_result",
          "data": {
            "text/plain": [
              "RV전환가능여부\n",
              "Z    1964098\n",
              "N     406429\n",
              "Name: count, dtype: int64"
            ],
            "text/html": [
              "<div>\n",
              "<style scoped>\n",
              "    .dataframe tbody tr th:only-of-type {\n",
              "        vertical-align: middle;\n",
              "    }\n",
              "\n",
              "    .dataframe tbody tr th {\n",
              "        vertical-align: top;\n",
              "    }\n",
              "\n",
              "    .dataframe thead th {\n",
              "        text-align: right;\n",
              "    }\n",
              "</style>\n",
              "<table border=\"1\" class=\"dataframe\">\n",
              "  <thead>\n",
              "    <tr style=\"text-align: right;\">\n",
              "      <th></th>\n",
              "      <th>count</th>\n",
              "    </tr>\n",
              "    <tr>\n",
              "      <th>RV전환가능여부</th>\n",
              "      <th></th>\n",
              "    </tr>\n",
              "  </thead>\n",
              "  <tbody>\n",
              "    <tr>\n",
              "      <th>Z</th>\n",
              "      <td>1964098</td>\n",
              "    </tr>\n",
              "    <tr>\n",
              "      <th>N</th>\n",
              "      <td>406429</td>\n",
              "    </tr>\n",
              "  </tbody>\n",
              "</table>\n",
              "</div><br><label><b>dtype:</b> int64</label>"
            ]
          },
          "metadata": {},
          "execution_count": 12
        }
      ]
    },
    {
      "cell_type": "code",
      "source": [
        "# 필요한 라이브러리 임포트 (이미 되어 있다고 가정)\n",
        "import pandas as pd\n",
        "\n",
        "# \"_1순위신용체크구분\"과 \"_2순위신용체크구분\"이 모두 결측치인 행의 개수 확인\n",
        "missing_both = train_df['_1순위신용체크구분'].isna() & train_df['_2순위신용체크구분'].isna()\n",
        "count_missing_both = missing_both.sum()\n",
        "\n",
        "# 결과 출력\n",
        "print(f\"_1순위신용체크구분과 _2순위신용체크구분이 모두 결측치인 행의 개수: {count_missing_both}\")"
      ],
      "metadata": {
        "colab": {
          "base_uri": "https://localhost:8080/"
        },
        "id": "d0xsECvmTzUu",
        "outputId": "c1796c8e-3a4e-4bbb-df66-c98d7174f720"
      },
      "execution_count": null,
      "outputs": [
        {
          "output_type": "stream",
          "name": "stdout",
          "text": [
            "_1순위신용체크구분과 _2순위신용체크구분이 모두 결측치인 행의 개수: 27664\n"
          ]
        }
      ]
    },
    {
      "cell_type": "code",
      "source": [
        "total_rows = 2400000\n",
        "\n",
        "# 1. 결측치 개수 계산\n",
        "missing_counts = train_df1.isnull().sum()\n",
        "\n",
        "# 2. 결측치 비율 계산 (%)\n",
        "missing_ratios = (missing_counts / total_rows) * 100\n",
        "\n",
        "# 3. 결측치가 있는 변수만 필터링\n",
        "missing_train_df1 = pd.DataFrame({\n",
        "    '결측치 개수': missing_counts,\n",
        "    '결측 비율 (%)': missing_ratios\n",
        "})\n",
        "missing_train_df1 = missing_train_df1[missing_train_df1['결측치 개수'] > 0]  # 결측치가 0인 변수 제외\n",
        "\n",
        "# 4. 결과 정렬 (결측 비율 높은 순)\n",
        "missing_train_df1 = missing_train_df1.sort_values(by='결측 비율 (%)', ascending=False)\n",
        "\n",
        "# 5. 출력\n",
        "print(f\"총 데이터 수: {total_rows}\")\n",
        "print(\"\\n결측치가 있는 변수 목록:\")\n",
        "print(missing_train_df1)\n"
      ],
      "metadata": {
        "colab": {
          "base_uri": "https://localhost:8080/"
        },
        "id": "nVEuIDgcZoPl",
        "outputId": "d9d456fa-2abe-40fc-871e-e4567d0de73c"
      },
      "execution_count": null,
      "outputs": [
        {
          "output_type": "stream",
          "name": "stdout",
          "text": [
            "총 데이터 수: 2400000\n",
            "\n",
            "결측치가 있는 변수 목록:\n",
            "                 결측치 개수  결측 비율 (%)\n",
            "연체일자_B0M        2394336  99.764000\n",
            "최종카드론_대출일자      1988330  82.847083\n",
            "최종카드론_신청경로코드    1958226  81.592750\n",
            "최종카드론_금융상환방식코드  1958126  81.588583\n",
            "RV신청일자          1951236  81.301500\n",
            "OS구분코드          1633566  68.065250\n",
            "_2순위신용체크구분       958115  39.921458\n",
            "혜택수혜율_B0M        555522  23.146750\n",
            "최종유효년월_신용_이용     534231  22.259625\n",
            "혜택수혜율_R3M        488746  20.364417\n",
            "가입통신회사코드         387570  16.148750\n",
            "직장시도명            244969  10.207042\n",
            "최종유효년월_신용_이용가능   210447   8.768625\n",
            "최종카드발급일자          41965   1.748542\n",
            "RV전환가능여부          29473   1.228042\n",
            "_1순위신용체크구분        27950   1.164583\n"
          ]
        }
      ]
    },
    {
      "cell_type": "code",
      "source": [
        "high_missing_cols = missing_ratios[missing_ratios >= 50].index.tolist()\n",
        "\n",
        "train_df1 = train_df1.drop(columns=high_missing_cols)"
      ],
      "metadata": {
        "id": "k5ERIU8M6agJ"
      },
      "execution_count": null,
      "outputs": []
    },
    {
      "cell_type": "code",
      "source": [
        "missing_bleow_20 = missing_train_df[(missing_ratios >= 1) & (missing_ratios <= 20)]\n",
        "train_df1[missing_bleow_20.index]"
      ],
      "metadata": {
        "colab": {
          "base_uri": "https://localhost:8080/",
          "height": 475
        },
        "id": "HUEzUU7G9JSI",
        "outputId": "6327b672-0cb7-4e51-92f0-4026af0b6854"
      },
      "execution_count": null,
      "outputs": [
        {
          "output_type": "stream",
          "name": "stderr",
          "text": [
            "<ipython-input-6-d0e281ae7f07>:1: UserWarning: Boolean Series key will be reindexed to match DataFrame index.\n",
            "  missing_bleow_20 = missing_train_df[(missing_ratios >= 1) & (missing_ratios <= 20)]\n"
          ]
        },
        {
          "output_type": "execute_result",
          "data": {
            "text/plain": [
              "        가입통신회사코드 직장시도명  최종유효년월_신용_이용가능    최종카드발급일자 RV전환가능여부 _1순위신용체크구분\n",
              "0             L사    서울        202110.0  20160912.0        N         신용\n",
              "1             K사    경기        202112.0  20170122.0        Z         신용\n",
              "2             S사    서울        202111.0  20161113.0        N         신용\n",
              "3             L사    부산        202201.0  20170205.0        N         신용\n",
              "4             K사    광주        202201.0  20170409.0        Z         신용\n",
              "...          ...   ...             ...         ...      ...        ...\n",
              "2399995       S사    울산        202110.0  20150902.0        Z         신용\n",
              "2399996       L사    인천        202110.0  20161201.0        Z         신용\n",
              "2399997       S사    서울        202110.0  20170609.0        N         신용\n",
              "2399998       S사    부산        202202.0  20160928.0        Z         신용\n",
              "2399999       S사    경북        202302.0  20170608.0        Z         신용\n",
              "\n",
              "[2400000 rows x 6 columns]"
            ],
            "text/html": [
              "\n",
              "  <div id=\"df-093eef98-3bfb-49ac-82b7-46d97a53f612\" class=\"colab-df-container\">\n",
              "    <div>\n",
              "<style scoped>\n",
              "    .dataframe tbody tr th:only-of-type {\n",
              "        vertical-align: middle;\n",
              "    }\n",
              "\n",
              "    .dataframe tbody tr th {\n",
              "        vertical-align: top;\n",
              "    }\n",
              "\n",
              "    .dataframe thead th {\n",
              "        text-align: right;\n",
              "    }\n",
              "</style>\n",
              "<table border=\"1\" class=\"dataframe\">\n",
              "  <thead>\n",
              "    <tr style=\"text-align: right;\">\n",
              "      <th></th>\n",
              "      <th>가입통신회사코드</th>\n",
              "      <th>직장시도명</th>\n",
              "      <th>최종유효년월_신용_이용가능</th>\n",
              "      <th>최종카드발급일자</th>\n",
              "      <th>RV전환가능여부</th>\n",
              "      <th>_1순위신용체크구분</th>\n",
              "    </tr>\n",
              "  </thead>\n",
              "  <tbody>\n",
              "    <tr>\n",
              "      <th>0</th>\n",
              "      <td>L사</td>\n",
              "      <td>서울</td>\n",
              "      <td>202110.0</td>\n",
              "      <td>20160912.0</td>\n",
              "      <td>N</td>\n",
              "      <td>신용</td>\n",
              "    </tr>\n",
              "    <tr>\n",
              "      <th>1</th>\n",
              "      <td>K사</td>\n",
              "      <td>경기</td>\n",
              "      <td>202112.0</td>\n",
              "      <td>20170122.0</td>\n",
              "      <td>Z</td>\n",
              "      <td>신용</td>\n",
              "    </tr>\n",
              "    <tr>\n",
              "      <th>2</th>\n",
              "      <td>S사</td>\n",
              "      <td>서울</td>\n",
              "      <td>202111.0</td>\n",
              "      <td>20161113.0</td>\n",
              "      <td>N</td>\n",
              "      <td>신용</td>\n",
              "    </tr>\n",
              "    <tr>\n",
              "      <th>3</th>\n",
              "      <td>L사</td>\n",
              "      <td>부산</td>\n",
              "      <td>202201.0</td>\n",
              "      <td>20170205.0</td>\n",
              "      <td>N</td>\n",
              "      <td>신용</td>\n",
              "    </tr>\n",
              "    <tr>\n",
              "      <th>4</th>\n",
              "      <td>K사</td>\n",
              "      <td>광주</td>\n",
              "      <td>202201.0</td>\n",
              "      <td>20170409.0</td>\n",
              "      <td>Z</td>\n",
              "      <td>신용</td>\n",
              "    </tr>\n",
              "    <tr>\n",
              "      <th>...</th>\n",
              "      <td>...</td>\n",
              "      <td>...</td>\n",
              "      <td>...</td>\n",
              "      <td>...</td>\n",
              "      <td>...</td>\n",
              "      <td>...</td>\n",
              "    </tr>\n",
              "    <tr>\n",
              "      <th>2399995</th>\n",
              "      <td>S사</td>\n",
              "      <td>울산</td>\n",
              "      <td>202110.0</td>\n",
              "      <td>20150902.0</td>\n",
              "      <td>Z</td>\n",
              "      <td>신용</td>\n",
              "    </tr>\n",
              "    <tr>\n",
              "      <th>2399996</th>\n",
              "      <td>L사</td>\n",
              "      <td>인천</td>\n",
              "      <td>202110.0</td>\n",
              "      <td>20161201.0</td>\n",
              "      <td>Z</td>\n",
              "      <td>신용</td>\n",
              "    </tr>\n",
              "    <tr>\n",
              "      <th>2399997</th>\n",
              "      <td>S사</td>\n",
              "      <td>서울</td>\n",
              "      <td>202110.0</td>\n",
              "      <td>20170609.0</td>\n",
              "      <td>N</td>\n",
              "      <td>신용</td>\n",
              "    </tr>\n",
              "    <tr>\n",
              "      <th>2399998</th>\n",
              "      <td>S사</td>\n",
              "      <td>부산</td>\n",
              "      <td>202202.0</td>\n",
              "      <td>20160928.0</td>\n",
              "      <td>Z</td>\n",
              "      <td>신용</td>\n",
              "    </tr>\n",
              "    <tr>\n",
              "      <th>2399999</th>\n",
              "      <td>S사</td>\n",
              "      <td>경북</td>\n",
              "      <td>202302.0</td>\n",
              "      <td>20170608.0</td>\n",
              "      <td>Z</td>\n",
              "      <td>신용</td>\n",
              "    </tr>\n",
              "  </tbody>\n",
              "</table>\n",
              "<p>2400000 rows × 6 columns</p>\n",
              "</div>\n",
              "    <div class=\"colab-df-buttons\">\n",
              "\n",
              "  <div class=\"colab-df-container\">\n",
              "    <button class=\"colab-df-convert\" onclick=\"convertToInteractive('df-093eef98-3bfb-49ac-82b7-46d97a53f612')\"\n",
              "            title=\"Convert this dataframe to an interactive table.\"\n",
              "            style=\"display:none;\">\n",
              "\n",
              "  <svg xmlns=\"http://www.w3.org/2000/svg\" height=\"24px\" viewBox=\"0 -960 960 960\">\n",
              "    <path d=\"M120-120v-720h720v720H120Zm60-500h600v-160H180v160Zm220 220h160v-160H400v160Zm0 220h160v-160H400v160ZM180-400h160v-160H180v160Zm440 0h160v-160H620v160ZM180-180h160v-160H180v160Zm440 0h160v-160H620v160Z\"/>\n",
              "  </svg>\n",
              "    </button>\n",
              "\n",
              "  <style>\n",
              "    .colab-df-container {\n",
              "      display:flex;\n",
              "      gap: 12px;\n",
              "    }\n",
              "\n",
              "    .colab-df-convert {\n",
              "      background-color: #E8F0FE;\n",
              "      border: none;\n",
              "      border-radius: 50%;\n",
              "      cursor: pointer;\n",
              "      display: none;\n",
              "      fill: #1967D2;\n",
              "      height: 32px;\n",
              "      padding: 0 0 0 0;\n",
              "      width: 32px;\n",
              "    }\n",
              "\n",
              "    .colab-df-convert:hover {\n",
              "      background-color: #E2EBFA;\n",
              "      box-shadow: 0px 1px 2px rgba(60, 64, 67, 0.3), 0px 1px 3px 1px rgba(60, 64, 67, 0.15);\n",
              "      fill: #174EA6;\n",
              "    }\n",
              "\n",
              "    .colab-df-buttons div {\n",
              "      margin-bottom: 4px;\n",
              "    }\n",
              "\n",
              "    [theme=dark] .colab-df-convert {\n",
              "      background-color: #3B4455;\n",
              "      fill: #D2E3FC;\n",
              "    }\n",
              "\n",
              "    [theme=dark] .colab-df-convert:hover {\n",
              "      background-color: #434B5C;\n",
              "      box-shadow: 0px 1px 3px 1px rgba(0, 0, 0, 0.15);\n",
              "      filter: drop-shadow(0px 1px 2px rgba(0, 0, 0, 0.3));\n",
              "      fill: #FFFFFF;\n",
              "    }\n",
              "  </style>\n",
              "\n",
              "    <script>\n",
              "      const buttonEl =\n",
              "        document.querySelector('#df-093eef98-3bfb-49ac-82b7-46d97a53f612 button.colab-df-convert');\n",
              "      buttonEl.style.display =\n",
              "        google.colab.kernel.accessAllowed ? 'block' : 'none';\n",
              "\n",
              "      async function convertToInteractive(key) {\n",
              "        const element = document.querySelector('#df-093eef98-3bfb-49ac-82b7-46d97a53f612');\n",
              "        const dataTable =\n",
              "          await google.colab.kernel.invokeFunction('convertToInteractive',\n",
              "                                                    [key], {});\n",
              "        if (!dataTable) return;\n",
              "\n",
              "        const docLinkHtml = 'Like what you see? Visit the ' +\n",
              "          '<a target=\"_blank\" href=https://colab.research.google.com/notebooks/data_table.ipynb>data table notebook</a>'\n",
              "          + ' to learn more about interactive tables.';\n",
              "        element.innerHTML = '';\n",
              "        dataTable['output_type'] = 'display_data';\n",
              "        await google.colab.output.renderOutput(dataTable, element);\n",
              "        const docLink = document.createElement('div');\n",
              "        docLink.innerHTML = docLinkHtml;\n",
              "        element.appendChild(docLink);\n",
              "      }\n",
              "    </script>\n",
              "  </div>\n",
              "\n",
              "\n",
              "<div id=\"df-3f2f6681-43c1-4e98-8163-6feed525af30\">\n",
              "  <button class=\"colab-df-quickchart\" onclick=\"quickchart('df-3f2f6681-43c1-4e98-8163-6feed525af30')\"\n",
              "            title=\"Suggest charts\"\n",
              "            style=\"display:none;\">\n",
              "\n",
              "<svg xmlns=\"http://www.w3.org/2000/svg\" height=\"24px\"viewBox=\"0 0 24 24\"\n",
              "     width=\"24px\">\n",
              "    <g>\n",
              "        <path d=\"M19 3H5c-1.1 0-2 .9-2 2v14c0 1.1.9 2 2 2h14c1.1 0 2-.9 2-2V5c0-1.1-.9-2-2-2zM9 17H7v-7h2v7zm4 0h-2V7h2v10zm4 0h-2v-4h2v4z\"/>\n",
              "    </g>\n",
              "</svg>\n",
              "  </button>\n",
              "\n",
              "<style>\n",
              "  .colab-df-quickchart {\n",
              "      --bg-color: #E8F0FE;\n",
              "      --fill-color: #1967D2;\n",
              "      --hover-bg-color: #E2EBFA;\n",
              "      --hover-fill-color: #174EA6;\n",
              "      --disabled-fill-color: #AAA;\n",
              "      --disabled-bg-color: #DDD;\n",
              "  }\n",
              "\n",
              "  [theme=dark] .colab-df-quickchart {\n",
              "      --bg-color: #3B4455;\n",
              "      --fill-color: #D2E3FC;\n",
              "      --hover-bg-color: #434B5C;\n",
              "      --hover-fill-color: #FFFFFF;\n",
              "      --disabled-bg-color: #3B4455;\n",
              "      --disabled-fill-color: #666;\n",
              "  }\n",
              "\n",
              "  .colab-df-quickchart {\n",
              "    background-color: var(--bg-color);\n",
              "    border: none;\n",
              "    border-radius: 50%;\n",
              "    cursor: pointer;\n",
              "    display: none;\n",
              "    fill: var(--fill-color);\n",
              "    height: 32px;\n",
              "    padding: 0;\n",
              "    width: 32px;\n",
              "  }\n",
              "\n",
              "  .colab-df-quickchart:hover {\n",
              "    background-color: var(--hover-bg-color);\n",
              "    box-shadow: 0 1px 2px rgba(60, 64, 67, 0.3), 0 1px 3px 1px rgba(60, 64, 67, 0.15);\n",
              "    fill: var(--button-hover-fill-color);\n",
              "  }\n",
              "\n",
              "  .colab-df-quickchart-complete:disabled,\n",
              "  .colab-df-quickchart-complete:disabled:hover {\n",
              "    background-color: var(--disabled-bg-color);\n",
              "    fill: var(--disabled-fill-color);\n",
              "    box-shadow: none;\n",
              "  }\n",
              "\n",
              "  .colab-df-spinner {\n",
              "    border: 2px solid var(--fill-color);\n",
              "    border-color: transparent;\n",
              "    border-bottom-color: var(--fill-color);\n",
              "    animation:\n",
              "      spin 1s steps(1) infinite;\n",
              "  }\n",
              "\n",
              "  @keyframes spin {\n",
              "    0% {\n",
              "      border-color: transparent;\n",
              "      border-bottom-color: var(--fill-color);\n",
              "      border-left-color: var(--fill-color);\n",
              "    }\n",
              "    20% {\n",
              "      border-color: transparent;\n",
              "      border-left-color: var(--fill-color);\n",
              "      border-top-color: var(--fill-color);\n",
              "    }\n",
              "    30% {\n",
              "      border-color: transparent;\n",
              "      border-left-color: var(--fill-color);\n",
              "      border-top-color: var(--fill-color);\n",
              "      border-right-color: var(--fill-color);\n",
              "    }\n",
              "    40% {\n",
              "      border-color: transparent;\n",
              "      border-right-color: var(--fill-color);\n",
              "      border-top-color: var(--fill-color);\n",
              "    }\n",
              "    60% {\n",
              "      border-color: transparent;\n",
              "      border-right-color: var(--fill-color);\n",
              "    }\n",
              "    80% {\n",
              "      border-color: transparent;\n",
              "      border-right-color: var(--fill-color);\n",
              "      border-bottom-color: var(--fill-color);\n",
              "    }\n",
              "    90% {\n",
              "      border-color: transparent;\n",
              "      border-bottom-color: var(--fill-color);\n",
              "    }\n",
              "  }\n",
              "</style>\n",
              "\n",
              "  <script>\n",
              "    async function quickchart(key) {\n",
              "      const quickchartButtonEl =\n",
              "        document.querySelector('#' + key + ' button');\n",
              "      quickchartButtonEl.disabled = true;  // To prevent multiple clicks.\n",
              "      quickchartButtonEl.classList.add('colab-df-spinner');\n",
              "      try {\n",
              "        const charts = await google.colab.kernel.invokeFunction(\n",
              "            'suggestCharts', [key], {});\n",
              "      } catch (error) {\n",
              "        console.error('Error during call to suggestCharts:', error);\n",
              "      }\n",
              "      quickchartButtonEl.classList.remove('colab-df-spinner');\n",
              "      quickchartButtonEl.classList.add('colab-df-quickchart-complete');\n",
              "    }\n",
              "    (() => {\n",
              "      let quickchartButtonEl =\n",
              "        document.querySelector('#df-3f2f6681-43c1-4e98-8163-6feed525af30 button');\n",
              "      quickchartButtonEl.style.display =\n",
              "        google.colab.kernel.accessAllowed ? 'block' : 'none';\n",
              "    })();\n",
              "  </script>\n",
              "</div>\n",
              "\n",
              "    </div>\n",
              "  </div>\n"
            ],
            "application/vnd.google.colaboratory.intrinsic+json": {
              "type": "dataframe"
            }
          },
          "metadata": {},
          "execution_count": 6
        }
      ]
    },
    {
      "cell_type": "code",
      "source": [
        "train_df1['가입통신회사코드'].fillna(train_df1['가입통신회사코드'].mode()[0], inplace=True)\n",
        "train_df1['직장시도명'].fillna(train_df1['직장시도명'].mode()[0], inplace=True)\n",
        "train_df1['RV전환가능여부'].fillna(train_df1['RV전환가능여부'].mode()[0], inplace=True)\n",
        "train_df1['_1순위신용체크구분'].fillna(train_df1['_1순위신용체크구분'].mode()[0], inplace=True)"
      ],
      "metadata": {
        "id": "9kWn2SWg-j98"
      },
      "execution_count": null,
      "outputs": []
    },
    {
      "cell_type": "code",
      "source": [
        "print(train_df1[['혜택수혜율_B0M', '혜택수혜율_R3M']].dropna().corr())"
      ],
      "metadata": {
        "colab": {
          "base_uri": "https://localhost:8080/"
        },
        "id": "HSCjUCB4Q9X5",
        "outputId": "88b142e8-62fb-4b2d-85bb-222771f057b2"
      },
      "execution_count": null,
      "outputs": [
        {
          "output_type": "stream",
          "name": "stdout",
          "text": [
            "           혜택수혜율_B0M  혜택수혜율_R3M\n",
            "혜택수혜율_B0M   1.000000   0.936912\n",
            "혜택수혜율_R3M   0.936912   1.000000\n"
          ]
        }
      ]
    },
    {
      "cell_type": "code",
      "source": [
        "import numpy as np\n",
        "train_df1['혜택수혜율_B0M'] = np.where(\n",
        "    train_df1['혜택수혜율_B0M'].isna() & train_df1['혜택수혜율_R3M'].notna(),\n",
        "    train_df1['혜택수혜율_R3M'],\n",
        "    train_df1['혜택수혜율_B0M']\n",
        ")\n",
        "train_df1['혜택수혜율_B0M'] = train_df1['혜택수혜율_B0M'].fillna(0)\n",
        "\n",
        "# 2. 혜택수혜율_R3M 결측치 처리\n",
        "# B0M 값이 있으면 B0M으로 대체, 둘 다 없으면 0\n",
        "train_df1['혜택수혜율_R3M'] = np.where(\n",
        "    train_df1['혜택수혜율_R3M'].isna() & train_df1['혜택수혜율_B0M'].notna(),\n",
        "    train_df1['혜택수혜율_B0M'],\n",
        "    train_df1['혜택수혜율_R3M']\n",
        ")\n",
        "train_df1['혜택수혜율_R3M'] = train_df1['혜택수혜율_R3M'].fillna(0)\n",
        "\n",
        "# 도메인 반영: 소지여부_신용이 'N'이면 둘 다 0으로 설정\n",
        "train_df1.loc[(train_df1['소지여부_신용'] == 'N') | (train_df1['이용금액_R3M_신용'] == 0), ['혜택수혜율_B0M', '혜택수혜율_R3M']] = 0"
      ],
      "metadata": {
        "id": "-X6mvZiaSnss"
      },
      "execution_count": null,
      "outputs": []
    },
    {
      "cell_type": "code",
      "source": [
        "train_df1['_1순위업종'] = np.where(train_df1['이용금액_R3M_신용'] == 0, '미사용', train_df1['_1순위업종'].fillna('Unknown'))"
      ],
      "metadata": {
        "id": "MeTjITfHRep2"
      },
      "execution_count": null,
      "outputs": []
    },
    {
      "cell_type": "code",
      "source": [
        "def fill_missing_with_usage(df, column, usage_col='이용금액_R3M_신용'):\n",
        "    return np.where(df[usage_col] == 0, '미사용', df[column].fillna('Unknown'))\n",
        "\n",
        "# 변수별 처리\n",
        "columns_to_process = [\n",
        "    '_2순위교통업종', '_3순위쇼핑업종', '_1순위납부업종', '_1순위교통업종',\n",
        "    '_2순위쇼핑업종', '_3순위업종', '_2순위신용체크구분', '_1순위쇼핑업종', '_2순위업종'\n",
        "]\n",
        "\n",
        "for col in columns_to_process:\n",
        "    train_df1[col] = fill_missing_with_usage(train_df1, col)"
      ],
      "metadata": {
        "id": "ZZtV9MBBZIOs"
      },
      "execution_count": null,
      "outputs": []
    },
    {
      "cell_type": "code",
      "source": [
        "train_df1['OS구분코드'] = train_df1['OS구분코드'].fillna('Unknown')"
      ],
      "metadata": {
        "id": "p6pgUmbhZU-o"
      },
      "execution_count": null,
      "outputs": []
    },
    {
      "cell_type": "code",
      "source": [
        "# Segment 컬럼의 클래스 분포 확인\n",
        "print(train_df[\"Segment\"].value_counts())\n",
        "\n",
        "# 시각화로 확인\n",
        "import seaborn as sns\n",
        "import matplotlib.pyplot as plt\n",
        "\n",
        "plt.figure(figsize=(8, 5))\n",
        "sns.countplot(x=train_df[\"Segment\"])\n",
        "plt.title(\"Class Distribution in Segment\")\n",
        "plt.show()\n",
        "\n"
      ],
      "metadata": {
        "colab": {
          "base_uri": "https://localhost:8080/",
          "height": 608
        },
        "id": "9rCphaPZYvct",
        "outputId": "244e43c8-e45e-4ccf-a1bf-1f6fefcbaf26"
      },
      "execution_count": null,
      "outputs": [
        {
          "output_type": "stream",
          "name": "stdout",
          "text": [
            "Segment\n",
            "E    1922052\n",
            "D     349242\n",
            "C     127590\n",
            "A        972\n",
            "B        144\n",
            "Name: count, dtype: int64\n"
          ]
        },
        {
          "output_type": "display_data",
          "data": {
            "text/plain": [
              "<Figure size 800x500 with 1 Axes>"
            ],
            "image/png": "[encoded data removed]"
          },
          "metadata": {}
        }
      ]
    }
  ]
}