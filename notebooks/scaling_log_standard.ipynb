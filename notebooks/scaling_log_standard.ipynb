{
 "cells": [
  {
   "cell_type": "code",
   "execution_count": 1,
   "id": "e8832993-1af0-4592-9cea-8e308286b523",
   "metadata": {
    "execution": {
     "iopub.execute_input": "2025-04-29T11:44:48.227846Z",
     "iopub.status.busy": "2025-04-29T11:44:48.227231Z",
     "iopub.status.idle": "2025-04-29T11:48:04.448231Z",
     "shell.execute_reply": "2025-04-29T11:48:04.447619Z",
     "shell.execute_reply.started": "2025-04-29T11:44:48.227829Z"
    }
   },
   "outputs": [],
   "source": [
    "import pandas as pd\n",
    "import numpy as np\n",
    "\n",
    "train_df=pd.read_csv('train_cat_plus.csv')"
   ]
  },
  {
   "cell_type": "code",
   "execution_count": 2,
   "id": "6a3d42a3-bfe2-4b18-9076-ece800817806",
   "metadata": {
    "execution": {
     "iopub.execute_input": "2025-04-29T11:48:08.569928Z",
     "iopub.status.busy": "2025-04-29T11:48:08.569495Z",
     "iopub.status.idle": "2025-04-29T11:48:13.311900Z",
     "shell.execute_reply": "2025-04-29T11:48:13.311332Z",
     "shell.execute_reply.started": "2025-04-29T11:48:08.569906Z"
    }
   },
   "outputs": [],
   "source": [
    "train_df = train_df.drop(columns=[col for col in train_df.columns if col.startswith('Unnamed')])"
   ]
  },
  {
   "cell_type": "code",
   "execution_count": 3,
   "id": "db51204a-7daa-4147-ba80-8a845b0fc3ac",
   "metadata": {
    "execution": {
     "iopub.execute_input": "2025-04-29T11:48:18.660493Z",
     "iopub.status.busy": "2025-04-29T11:48:18.659999Z",
     "iopub.status.idle": "2025-04-29T11:48:19.059308Z",
     "shell.execute_reply": "2025-04-29T11:48:19.058901Z",
     "shell.execute_reply.started": "2025-04-29T11:48:18.660469Z"
    }
   },
   "outputs": [],
   "source": [
    "import pandas as pd\n",
    "import numpy as np\n",
    "from sklearn.preprocessing import StandardScaler\n",
    "\n",
    "def Scaler_data(df, save_path=None, batch_size=None):\n",
    "    \"\"\"\n",
    "    수치형 컬럼에 대해 로그 변환, 스케일링, 이상치(Inf 처리)까지 수행하는 전처리 함수.\n",
    "    결측치가 없다고 가정.\n",
    "\n",
    "    Parameters:\n",
    "    - df: 입력 데이터프레임\n",
    "    - save_path: 저장 경로 지정 시, 전처리 완료 파일 CSV로 저장 (기본값: None)\n",
    "    - batch_size: 대용량 데이터 처리 시 배치 크기 (기본값: None)\n",
    "\n",
    "    Returns:\n",
    "    - 전처리 완료된 데이터프레임\n",
    "    - 로그 변환 적용된 컬럼 리스트\n",
    "    - 음수값이 존재한 컬럼 리스트\n",
    "    \"\"\"\n",
    "    \n",
    "    # 1. 데이터 복사 (최소화)\n",
    "    df_processed = df.copy()  # 최초 복사본 하나만 생성\n",
    "    print(f\"✅ 데이터 크기: {df_processed.shape}\")\n",
    "\n",
    "    # 2. 수치형 컬럼 선택\n",
    "    numeric_cols = df_processed.select_dtypes(include=['number']).columns.tolist()\n",
    "    if not numeric_cols:\n",
    "        print(\"⚠️ 수치형 컬럼이 없습니다.\")\n",
    "        return df_processed, [], []\n",
    "\n",
    "    # 3. Inf 값 처리\n",
    "    df_processed[numeric_cols] = df_processed[numeric_cols].replace([np.inf, -np.inf], np.nan)\n",
    "    if df_processed[numeric_cols].isna().any().any():\n",
    "        print(\"⚠️ Inf 값을 NaN으로 대체 후, NaN 발생. 평균값으로 대체.\")\n",
    "        df_processed[numeric_cols] = df_processed[numeric_cols].fillna(df_processed[numeric_cols].mean())\n",
    "    print(f\"✅ Inf 처리 완료. 처리된 컬럼: {numeric_cols}\")\n",
    "\n",
    "    # 4. 로그 변환이 필요한 컬럼 탐지\n",
    "    log_transform_cols = []\n",
    "    cols_with_negative_values = []\n",
    "\n",
    "    for col in numeric_cols:\n",
    "        col_min = df_processed[col].min()\n",
    "        col_max = df_processed[col].max()\n",
    "        if col_min < 0:\n",
    "            cols_with_negative_values.append(col)\n",
    "        if col_max > 1000 or (col_min > 0 and col_max / col_min > 50):\n",
    "            log_transform_cols.append(col)\n",
    "    print(f\"📊 로그 변환 대상 컬럼: {log_transform_cols}\")\n",
    "    print(f\"📊 음수 값 포함 컬럼: {cols_with_negative_values}\")\n",
    "\n",
    "    # 5. 로그 변환 (음수 컬럼 제외)\n",
    "    for col in log_transform_cols:\n",
    "        if col not in cols_with_negative_values:\n",
    "            df_processed[col] = np.log1p(df_processed[col].clip(lower=0))  # 음수 방지\n",
    "            print(f\"📊 로그 변환 적용: {col}\")\n",
    "\n",
    "    # 6. 스케일링 (StandardScaler)\n",
    "    scaler = StandardScaler()\n",
    "    if batch_size is None:\n",
    "        # 기본 방식: 전체 데이터 스케일링\n",
    "        df_processed[numeric_cols] = scaler.fit_transform(df_processed[numeric_cols])\n",
    "        print(\"✅ 전체 데이터 스케일링 완료\")\n",
    "    else:\n",
    "        # 대용량 데이터: 배치 처리\n",
    "        for start in range(0, len(df_processed), batch_size):\n",
    "            end = min(start + batch_size, len(df_processed))\n",
    "            df_processed.iloc[start:end, df_processed.columns.get_indexer(numeric_cols)] = \\\n",
    "                scaler.partial_fit(df_processed[numeric_cols].iloc[start:end]).transform(\n",
    "                    df_processed[numeric_cols].iloc[start:end]\n",
    "                )\n",
    "            print(f\"📈 배치 스케일링 완료: {start} ~ {end} 행\")\n",
    "\n",
    "    # 7. 저장 (옵션)\n",
    "    if save_path is not None:\n",
    "        df_processed.to_csv(save_path, index=False)\n",
    "        print(f\"✅ 전처리 완료된 데이터가 저장되었습니다: {save_path}\")\n",
    "\n",
    "    return df_processed, log_transform_cols, cols_with_negative_values"
   ]
  },
  {
   "cell_type": "code",
   "execution_count": null,
   "id": "bedd5447-91ef-4884-8edb-eab012719170",
   "metadata": {
    "execution": {
     "execution_failed": "2025-04-29T11:49:37.318Z",
     "iopub.execute_input": "2025-04-29T11:48:24.132923Z",
     "iopub.status.busy": "2025-04-29T11:48:24.132363Z"
    }
   },
   "outputs": [
    {
     "name": "stdout",
     "output_type": "stream",
     "text": [
      "✅ 데이터 크기: (2400000, 749)\n",
      "⚠️ Inf 값을 NaN으로 대체 후, NaN 발생. 평균값으로 대체.\n"
     ]
    }
   ],
   "source": [
    "# 함수 호출\n",
    "train_df = Scaler_data(train_df, save_path='train_cat_sacled')\n",
    "\n",
    "# 결과 확인\n",
    "print(f\"로그 변환된 컬럼 수: {len(log_cols)}개\")\n",
    "print(f\"음수값 존재 컬럼 수: {len(negative_cols)}개\")"
   ]
  },
  {
   "cell_type": "code",
   "execution_count": null,
   "id": "5a6cae61-e5c5-48b9-b9de-7fa62d626396",
   "metadata": {},
   "outputs": [],
   "source": [
    "'''\n",
    "1. 로그"
   ]
  }
 ],
 "metadata": {
  "kernelspec": {
   "display_name": "py312_ljh",
   "language": "python",
   "name": "py312_ljh"
  },
  "language_info": {
   "codemirror_mode": {
    "name": "ipython",
    "version": 3
   },
   "file_extension": ".py",
   "mimetype": "text/x-python",
   "name": "python",
   "nbconvert_exporter": "python",
   "pygments_lexer": "ipython3",
   "version": "3.12.2"
  }
 },
 "nbformat": 4,
 "nbformat_minor": 5
}
